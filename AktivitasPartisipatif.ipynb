{
  "nbformat": 4,
  "nbformat_minor": 0,
  "metadata": {
    "colab": {
      "provenance": []
    },
    "kernelspec": {
      "name": "python3",
      "display_name": "Python 3"
    },
    "language_info": {
      "name": "python"
    }
  },
  "cells": [
    {
      "cell_type": "markdown",
      "source": [
        "## Nama  : Muhammad Randy Prasetya\n",
        "## NIM   : 2311110015\n",
        "## Kelas : SD-04-01"
      ],
      "metadata": {
        "id": "NZMNfUSoAsDI"
      }
    },
    {
      "cell_type": "markdown",
      "source": [
        "# Import Library"
      ],
      "metadata": {
        "id": "GxnQCxR10qMD"
      }
    },
    {
      "cell_type": "code",
      "execution_count": 26,
      "metadata": {
        "id": "LWXGEtQ4zWXz"
      },
      "outputs": [],
      "source": [
        "import pandas as pd\n",
        "import numpy as np\n",
        "from sklearn.preprocessing import LabelEncoder, MinMaxScaler"
      ]
    },
    {
      "cell_type": "markdown",
      "source": [
        "# Memanggil Data"
      ],
      "metadata": {
        "id": "H_WtMZBVz9W9"
      }
    },
    {
      "cell_type": "code",
      "source": [
        "cad = \"/content/CAD-Dataset.xlsx\"\n",
        "dataset = pd.read_excel(cad)"
      ],
      "metadata": {
        "id": "2AcGyILLzkXb"
      },
      "execution_count": 33,
      "outputs": []
    },
    {
      "cell_type": "markdown",
      "source": [
        "### Memanggil dataset ke environment"
      ],
      "metadata": {
        "id": "3SdUm6nD0EM2"
      }
    },
    {
      "cell_type": "markdown",
      "source": [
        "# Menampilkan Data"
      ],
      "metadata": {
        "id": "9uAlxbeK0Fsm"
      }
    },
    {
      "cell_type": "code",
      "source": [
        "print(\"Dataset Awal:\")\n",
        "print(dataset.head())"
      ],
      "metadata": {
        "colab": {
          "base_uri": "https://localhost:8080/"
        },
        "id": "u7NX-YVyzmSD",
        "outputId": "71d1d85d-96d1-4f13-ce00-d9f8a2a51eb0"
      },
      "execution_count": 29,
      "outputs": [
        {
          "output_type": "stream",
          "name": "stdout",
          "text": [
            "Data Awal:\n",
            "   No  Age  Weight  Length    Sex  BMI DM HTN Current Smoker EX-Smoker  ...  \\\n",
            "0   1   53      90     175   Male    ?  n   Y              Y         n  ...   \n",
            "1   2   67      70     157  Fmale  NaN  n   Y              n         n  ...   \n",
            "2   3   54      54     164   Male  NaN  n   n              Y         n  ...   \n",
            "3   4   66      67     158  Fmale  NaN  n   Y              n         n  ...   \n",
            "4   5   50      87     153  Fmale  NaN  n   Y              n         n  ...   \n",
            "\n",
            "     K   Na    WBC Lymph Neut  PLT EF-TTE Region RWMA     VHD    Cath  \n",
            "0  4.7  141   5700    39   52  261     50           0       N     Cad  \n",
            "1  4.7  156   7700    38   55  165     40           4       N     Cad  \n",
            "2  4.7  139   7400    38   60  230     40           2    mild     Cad  \n",
            "3  4.4  142  13000    18   72    ?     55           0  Severe  Normal  \n",
            "4  4.0  140   9200    55   39  274     50           0  Severe  Normal  \n",
            "\n",
            "[5 rows x 56 columns]\n"
          ]
        }
      ]
    },
    {
      "cell_type": "markdown",
      "source": [
        "### Menampilkan beberapa bagian awal dari dataset"
      ],
      "metadata": {
        "id": "QCJc5wX-0KiW"
      }
    },
    {
      "cell_type": "markdown",
      "source": [
        "# Preprocessing"
      ],
      "metadata": {
        "id": "V-jONg1z0MW_"
      }
    },
    {
      "cell_type": "code",
      "source": [
        "missing_values = dataset.isnull().sum()\n",
        "print(\"\\nMissing values per kolom:\")\n",
        "print(missing_values)"
      ],
      "metadata": {
        "colab": {
          "base_uri": "https://localhost:8080/"
        },
        "id": "R2-ODBJNzowC",
        "outputId": "2574223c-71ee-48b3-aa36-6705a7270b17"
      },
      "execution_count": 41,
      "outputs": [
        {
          "output_type": "stream",
          "name": "stdout",
          "text": [
            "\n",
            "Missing values per kolom:\n",
            "No                         0\n",
            "Age                        0\n",
            "Weight                     0\n",
            "Length                     0\n",
            "Sex                        0\n",
            "BMI                      302\n",
            "DM                         1\n",
            "HTN                        0\n",
            "Current Smoker             4\n",
            "EX-Smoker                  0\n",
            "FH                         0\n",
            "Obesity                    0\n",
            "CRF                        0\n",
            "CVA                        0\n",
            "Airway disease             0\n",
            "Thyroid Disease            0\n",
            "CHF                        0\n",
            "DLP                        0\n",
            "BP                         0\n",
            "PR                         0\n",
            "Edema                      0\n",
            "Weak Peripheral Pulse      0\n",
            "Lung rales                 0\n",
            "Systolic Murmur            0\n",
            "Diastolic Murmur           0\n",
            "Typical Chest Pain         0\n",
            "Dyspnea                    0\n",
            "Function Class             0\n",
            "Atypical                   0\n",
            "Nonanginal                 1\n",
            "Exertional CP              0\n",
            "LowTH Ang                  2\n",
            "Q Wave                     0\n",
            "St Elevation               0\n",
            "St Depression              0\n",
            "Tinversion                 0\n",
            "LVH                        0\n",
            "Poor R Progression         0\n",
            "FBS                        2\n",
            "CR                         0\n",
            "TG                         0\n",
            "LDL                        0\n",
            "HDL                        0\n",
            "BUN                        0\n",
            "ESR                        1\n",
            "HB                         0\n",
            "K                          0\n",
            "Na                         0\n",
            "WBC                        0\n",
            "Lymph                      0\n",
            "Neut                       0\n",
            "PLT                        0\n",
            "EF-TTE                     0\n",
            "Region RWMA                0\n",
            "VHD                        0\n",
            "Cath                       0\n",
            "dtype: int64\n"
          ]
        }
      ]
    },
    {
      "cell_type": "code",
      "source": [
        "for column in dataset.columns:\n",
        "    if dataset[column].isnull().sum() > 0:\n",
        "        if dataset[column].dtype == 'object':\n",
        "            dataset[column].fillna(dataset[column].mode()[0], inplace=True)\n",
        "        else:\n",
        "            dataset[column].fillna(dataset[column].median(), inplace=True)"
      ],
      "metadata": {
        "id": "LCz-yJBT8NEK"
      },
      "execution_count": 44,
      "outputs": []
    },
    {
      "cell_type": "markdown",
      "source": [
        "### Dataset diperiksa apakah memiliki missing values. Apabila ada maka values yang hilang itu diubah sesuai tipenya. Median apabila kolom numerik, dan menggunakan modus jika kategorikal."
      ],
      "metadata": {
        "id": "3pa9vfQ_0PhH"
      }
    },
    {
      "cell_type": "markdown",
      "source": [
        "# Mengubah semua kolom jadi numerik"
      ],
      "metadata": {
        "id": "A3EC0yTU0ThI"
      }
    },
    {
      "cell_type": "code",
      "source": [
        "for column in dataset.select_dtypes(include=['object']).columns:\n",
        "    dataset[column] = pd.factorize(dataset[column])[0]\n",
        "\n",
        "print(\"\\nSetelah diconvert:\")\n",
        "print(dataset.head())"
      ],
      "metadata": {
        "colab": {
          "base_uri": "https://localhost:8080/"
        },
        "id": "BisPCq8MzqYL",
        "outputId": "6b92bbb2-f4cb-4ad0-b15b-8a2554d6539d"
      },
      "execution_count": 46,
      "outputs": [
        {
          "output_type": "stream",
          "name": "stdout",
          "text": [
            "\n",
            "Setelah diconvert:\n",
            "   No  Age  Weight  Length  Sex  BMI  DM  HTN  Current Smoker  EX-Smoker  ...  \\\n",
            "0   1   53      90     175    0    0   0    0               0          0  ...   \n",
            "1   2   67      70     157    1    1   0    0               1          0  ...   \n",
            "2   3   54      54     164    0    1   0    1               0          0  ...   \n",
            "3   4   66      67     158    1    1   0    0               1          0  ...   \n",
            "4   5   50      87     153    1    1   0    0               1          0  ...   \n",
            "\n",
            "     K   Na    WBC  Lymph  Neut  PLT  EF-TTE  Region RWMA  VHD  Cath  \n",
            "0  4.7  141   5700     39    52    0      50            0    0     0  \n",
            "1  4.7  156   7700     38    55    1      40            4    0     0  \n",
            "2  4.7  139   7400     38    60    2      40            2    1     0  \n",
            "3  4.4  142  13000     18    72    3      55            0    2     1  \n",
            "4  4.0  140   9200     55    39    4      50            0    2     1  \n",
            "\n",
            "[5 rows x 56 columns]\n"
          ]
        }
      ]
    },
    {
      "cell_type": "markdown",
      "source": [
        "### Mengubah semua kolom menjadi bentuk numerik dengan faktor indeks"
      ],
      "metadata": {
        "id": "5d_cQsVk0mRi"
      }
    },
    {
      "cell_type": "markdown",
      "source": [
        "# Normalisasi"
      ],
      "metadata": {
        "id": "w60dL5wT0fbZ"
      }
    },
    {
      "cell_type": "code",
      "source": [
        "scaler = MinMaxScaler()\n",
        "dataset_update = pd.DataFrame(scaler.fit_transform(dataset), columns=dataset.columns)\n",
        "\n",
        "print(\"\\nSetelah normalisasi:\")\n",
        "print(dataset_update.head())"
      ],
      "metadata": {
        "colab": {
          "base_uri": "https://localhost:8080/"
        },
        "id": "ZKicyFfqzvI7",
        "outputId": "04cafc85-f134-41b8-bdbc-20a2b949dc96"
      },
      "execution_count": 48,
      "outputs": [
        {
          "output_type": "stream",
          "name": "stdout",
          "text": [
            "\n",
            "Setelah normalisasi:\n",
            "         No       Age    Weight    Length  Sex  BMI   DM  HTN  Current Smoker  \\\n",
            "0  0.000000  0.410714  0.583333  0.729167  0.0  0.0  0.0  0.0            0.00   \n",
            "1  0.003311  0.660714  0.305556  0.354167  1.0  1.0  0.0  0.0            0.25   \n",
            "2  0.006623  0.428571  0.083333  0.500000  0.0  1.0  0.0  1.0            0.00   \n",
            "3  0.009934  0.642857  0.263889  0.375000  1.0  1.0  0.0  0.0            0.25   \n",
            "4  0.013245  0.357143  0.541667  0.270833  1.0  1.0  0.0  0.0            0.25   \n",
            "\n",
            "   EX-Smoker  ...         K        Na       WBC     Lymph      Neut       PLT  \\\n",
            "0        0.0  ...  0.472222  0.464286  0.139860  0.603774  0.350877  0.000000   \n",
            "1        0.0  ...  0.472222  1.000000  0.279720  0.584906  0.403509  0.007463   \n",
            "2        0.0  ...  0.472222  0.392857  0.258741  0.584906  0.491228  0.014925   \n",
            "3        0.0  ...  0.388889  0.500000  0.650350  0.207547  0.701754  0.022388   \n",
            "4        0.0  ...  0.277778  0.428571  0.384615  0.905660  0.122807  0.029851   \n",
            "\n",
            "     EF-TTE  Region RWMA       VHD  Cath  \n",
            "0  0.777778          0.0  0.000000   0.0  \n",
            "1  0.555556          1.0  0.000000   0.0  \n",
            "2  0.555556          0.5  0.333333   0.0  \n",
            "3  0.888889          0.0  0.666667   1.0  \n",
            "4  0.777778          0.0  0.666667   1.0  \n",
            "\n",
            "[5 rows x 56 columns]\n"
          ]
        }
      ]
    },
    {
      "cell_type": "markdown",
      "source": [
        "### Menormalisasikan data dengan Min-Max Scaler agar semua nilai berada dalam rentang [0,1]"
      ],
      "metadata": {
        "id": "pQ6SzRbT0n0r"
      }
    }
  ]
}